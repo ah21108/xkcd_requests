{
 "cells": [
  {
   "cell_type": "code",
   "execution_count": 10,
   "metadata": {},
   "outputs": [],
   "source": [
    "#this is the base code\n",
    "\n",
    "import requests\n",
    "import json\n",
    "import tempfile as t\n",
    "import os\n",
    "import shutil\n",
    "#import aspose.words as aw\n",
    "from docx import Document\n",
    "from docx.shared import Inches\n",
    "from docx.enum.text import WD_ALIGN_PARAGRAPH\n",
    "from PIL import Image\n",
    "\n",
    "'''**TO WORK**makes a temp directory to store images.  Right now using actual directory--mkdtemp will be true temp'''\n",
    "#t.mkdtemp(prefix='images') comment out until figure out temp directory usage\n",
    "\n",
    "#os.mkdir('images')\n",
    "\n",
    "\n",
    "'''This determines the latest xkcd cartoon to create the for-loop below'''\n",
    "latest_comic = 'https://xkcd.com/info.0.json'\n",
    "temp = requests.get(latest_comic)\n",
    "temp_data = temp.json()\n",
    "last_comic_number = int(temp_data['num'])\n",
    "\n",
    "'''Create a blank document'''\n",
    "document = Document()\n",
    "\n",
    "'''iterate over comics'''\n",
    "for x in range(1608):\n",
    "    current_section = document.sections[-1]  # last section in document\n",
    "    current_section.left_margin = Inches(1.0)\n",
    "    current_section.right_margin = Inches(1.0)\n",
    "    \n",
    "    website = 'https://xkcd.com/' + str(x) + '/info.0.json'\n",
    "    response = requests.get(website)\n",
    "    if response.status_code == requests.codes.ok:  #checks to see if a valid site--gets over the 404 problem\n",
    "\n",
    "        data = response.json()\n",
    "        \n",
    "        \"\"\"insert title above image\"\"\"\n",
    "        title_text = \"#\" + str(data['num']) + \": \" + data['safe_title']\n",
    "        document.add_heading(title_text, 0) \n",
    "        \n",
    "        #saves image\n",
    "        filename = 'images/' + str(x) + '.png'\n",
    "#         r = requests.get(data['img'])\n",
    "\n",
    "#         with open(filename, 'wb')as f:\n",
    "#             f.write(r.content)\n",
    "            \n",
    "        '''scale and add image with max dimension of 6 inches (height or width)'''\n",
    "        im = Image.open(filename)\n",
    "        width, height = im.size\n",
    "        portrait = height >= width #determine if image is landscape or portrait\n",
    "        if portrait:\n",
    "            newsize = (int(width*576/height),576)\n",
    "            im = im.resize(newsize)\n",
    "            im.save(filename)\n",
    "            document.add_picture(filename, height=Inches(6.0))\n",
    "        else:\n",
    "            newsize = (576, int(height*576/width))\n",
    "            im = im.resize(newsize) \n",
    "            im.save(filename) \n",
    "            document.add_picture(filename, width=Inches(6.0))       \n",
    "           \n",
    "        \"\"\"insert hovertext below image\"\"\"    \n",
    "        hover_text = data['alt']\n",
    "        document.add_paragraph(data['alt'])  \n",
    "        \n",
    "        '''center pic and text'''\n",
    "        last_paragraph = document.paragraphs[-1] \n",
    "        last_paragraph.alignment = WD_ALIGN_PARAGRAPH.CENTER\n",
    "        \n",
    "        \n",
    "        document.add_section()    \n",
    "\n",
    "\n",
    "'''Save Document'''    \n",
    "document.save(\"out.docx\")\n",
    "\n",
    "'''deletes directory used to store images during process'''  \n",
    "shutil.rmtree('images')\n",
    "            "
   ]
  },
  {
   "cell_type": "code",
   "execution_count": 8,
   "metadata": {},
   "outputs": [
    {
     "name": "stdout",
     "output_type": "stream",
     "text": [
      "635 1085\n",
      "(337, 576)\n"
     ]
    }
   ],
   "source": [
    "# Importing Image class from PIL module\n",
    "from PIL import Image\n",
    " \n",
    "# Opens a image in RGB mode\n",
    "im = Image.open('working.png')\n",
    "\n",
    " \n",
    "# Size of the image in pixels (size of original image)\n",
    "# (This is not mandatory)\n",
    "width, height = im.size\n",
    "print (width, height)\n",
    " \n",
    "maxsize = 576 #pixels in height\n",
    "\n",
    "if height > maxsize: #need to scale\n",
    "    newsize = (int((576/height) * width), 576)\n",
    "    print(newsize)\n",
    "    im.resize(newsize)\n",
    "else:\n",
    "    pass\n",
    "# Shows the image in image viewer\n",
    "#im1.show()\n",
    "#i_width, i_height = im1.size\n",
    "#print(i_width, i_height)"
   ]
  },
  {
   "cell_type": "code",
   "execution_count": null,
   "metadata": {},
   "outputs": [],
   "source": [
    "im = Image.open('1_BarrelPart1.png')\n",
    "im1 = im.resize(290, 155)\n",
    "im1.show()"
   ]
  },
  {
   "cell_type": "code",
   "execution_count": 27,
   "metadata": {},
   "outputs": [
    {
     "data": {
      "text/plain": [
       "<docx.shape.InlineShape at 0x7fd651e5ea30>"
      ]
     },
     "execution_count": 27,
     "metadata": {},
     "output_type": "execute_result"
    }
   ],
   "source": [
    "document= Document('out.docx')\n",
    "document.add_picture('1_BarrelPart1.png', width = 576, height = 576)"
   ]
  },
  {
   "cell_type": "code",
   "execution_count": 7,
   "metadata": {},
   "outputs": [],
   "source": [
    "shutil.rmtree('images')"
   ]
  },
  {
   "cell_type": "code",
   "execution_count": null,
   "metadata": {},
   "outputs": [],
   "source": [
    "from docx.shared import Pt\n",
    "  \n",
    "# Create an instance of a word document\n",
    "doc = docx.Document('out.docx')\n",
    "  \n",
    "  \n",
    "# Adding paragraph with Increased font size\n",
    "doc.add_heading('Increased Font Size Paragraph:', 3)\n",
    "para = doc.add_paragraph().add_run(\n",
    "    'GeeksforGeeks is a Computer Science portal for geeks.')\n",
    "# Increasing size of the font\n",
    "para.font.size = Pt(12)\n",
    "  \n",
    "# Adding paragraph with normal font size\n",
    "doc.add_heading('Normal Font Size Paragraph:', 3)\n",
    "doc.add_paragraph(\n",
    "    'GeeksforGeeks is a Computer Science portal for geeks.')"
   ]
  }
 ],
 "metadata": {
  "kernelspec": {
   "display_name": "Python 3 (ipykernel)",
   "language": "python",
   "name": "python3"
  },
  "language_info": {
   "codemirror_mode": {
    "name": "ipython",
    "version": 3
   },
   "file_extension": ".py",
   "mimetype": "text/x-python",
   "name": "python",
   "nbconvert_exporter": "python",
   "pygments_lexer": "ipython3",
   "version": "3.9.12"
  }
 },
 "nbformat": 4,
 "nbformat_minor": 4
}
