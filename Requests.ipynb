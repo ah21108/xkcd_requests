{
 "cells": [
  {
   "cell_type": "code",
   "execution_count": 10,
   "metadata": {},
   "outputs": [
    {
     "name": "stderr",
     "output_type": "stream",
     "text": [
      "/home/arminheravi/.local/lib/python3.8/site-packages/requests/sessions.py:428: RuntimeWarning: coroutine 'AsyncHTMLSession.close' was never awaited\n",
      "  self.close()\n",
      "RuntimeWarning: Enable tracemalloc to get the object allocation traceback\n"
     ]
    },
    {
     "ename": "AttributeError",
     "evalue": "'_asyncio.Future' object has no attribute 'html'",
     "output_type": "error",
     "traceback": [
      "\u001b[0;31m---------------------------------------------------------------------------\u001b[0m",
      "\u001b[0;31mAttributeError\u001b[0m                            Traceback (most recent call last)",
      "\u001b[0;32m<ipython-input-10-b0398101811a>\u001b[0m in \u001b[0;36m<module>\u001b[0;34m\u001b[0m\n\u001b[1;32m     11\u001b[0m     \u001b[0;32mwith\u001b[0m \u001b[0mAsyncHTMLSession\u001b[0m\u001b[0;34m(\u001b[0m\u001b[0;34m)\u001b[0m \u001b[0;32mas\u001b[0m \u001b[0msession\u001b[0m\u001b[0;34m:\u001b[0m\u001b[0;34m\u001b[0m\u001b[0;34m\u001b[0m\u001b[0m\n\u001b[1;32m     12\u001b[0m         \u001b[0mresponse\u001b[0m \u001b[0;34m=\u001b[0m \u001b[0msession\u001b[0m\u001b[0;34m.\u001b[0m\u001b[0mget\u001b[0m\u001b[0;34m(\u001b[0m\u001b[0murl\u001b[0m\u001b[0;34m)\u001b[0m\u001b[0;34m\u001b[0m\u001b[0;34m\u001b[0m\u001b[0m\n\u001b[0;32m---> 13\u001b[0;31m         \u001b[0mresponse\u001b[0m\u001b[0;34m.\u001b[0m\u001b[0mhtml\u001b[0m\u001b[0;34m.\u001b[0m\u001b[0mrender\u001b[0m\u001b[0;34m(\u001b[0m\u001b[0;34m)\u001b[0m\u001b[0;34m\u001b[0m\u001b[0;34m\u001b[0m\u001b[0m\n\u001b[0m\u001b[1;32m     14\u001b[0m         \u001b[0mcontent\u001b[0m \u001b[0;34m=\u001b[0m \u001b[0mresponse\u001b[0m\u001b[0;34m.\u001b[0m\u001b[0mhtml\u001b[0m\u001b[0;34m.\u001b[0m\u001b[0mhtml\u001b[0m\u001b[0;34m\u001b[0m\u001b[0;34m\u001b[0m\u001b[0m\n\u001b[1;32m     15\u001b[0m \u001b[0;34m\u001b[0m\u001b[0m\n",
      "\u001b[0;31mAttributeError\u001b[0m: '_asyncio.Future' object has no attribute 'html'"
     ]
    }
   ],
   "source": [
    "import requests\n",
    "from requests_html import HTMLSession\n",
    "from requests_html import AsyncHTMLSession\n",
    "from bs4 import BeautifulSoup\n",
    "\n",
    "#for z in range(352,353):\n",
    "z_string = str(z)\n",
    "url = 'https://xkcd.com/353/'\n",
    "    \n",
    "#find the images \n",
    "with AsyncHTMLSession() as session:\n",
    "    response = session.get(url)\n",
    "    response.html.render()\n",
    "    content = response.html.html\n",
    "\n",
    "soup = BeautifulSoup(content, \"html.parser\")\n",
    "images = soup.find_all(\"img\")\n",
    "for img in images:\n",
    "    src = img.get(\"src\")\n",
    "     if src:\n",
    "            print(src)\n",
    "\n"
   ]
  },
  {
   "cell_type": "code",
   "execution_count": 13,
   "metadata": {},
   "outputs": [
    {
     "name": "stdout",
     "output_type": "stream",
     "text": [
      "True\n"
     ]
    }
   ],
   "source": [
    "#xkcd cartoon\n",
    "r = requests.get('https://imgs.xkcd.com/comics/python.png')\n",
    "print (r.ok) #boolean if anything other than 200 = false"
   ]
  },
  {
   "cell_type": "code",
   "execution_count": 12,
   "metadata": {},
   "outputs": [],
   "source": [
    "#saves png content above as filename below\n",
    "with open('comic.png', 'wb') as f:\n",
    "    f.write(r.content)\n",
    "          "
   ]
  },
  {
   "cell_type": "code",
   "execution_count": 14,
   "metadata": {},
   "outputs": [
    {
     "name": "stdout",
     "output_type": "stream",
     "text": [
      "{'Connection': 'keep-alive', 'Content-Length': '90835', 'Server': 'nginx', 'Content-Type': 'image/png', 'Last-Modified': 'Mon, 01 Feb 2010 13:07:49 GMT', 'ETag': '\"4b66d225-162d3\"', 'Expires': 'Mon, 21 Feb 2022 14:23:23 GMT', 'Cache-Control': 'max-age=300', 'Accept-Ranges': 'bytes', 'Date': 'Mon, 21 Feb 2022 20:18:54 GMT', 'Via': '1.1 varnish', 'Age': '196', 'X-Served-By': 'cache-iad-kiad7000085-IAD', 'X-Cache': 'HIT', 'X-Cache-Hits': '1', 'X-Timer': 'S1645474734.155226,VS0,VE1'}\n"
     ]
    }
   ],
   "source": [
    "print(r.headers)"
   ]
  },
  {
   "cell_type": "code",
   "execution_count": 15,
   "metadata": {},
   "outputs": [
    {
     "name": "stdout",
     "output_type": "stream",
     "text": [
      "{'Connection': 'keep-alive', 'Content-Length': '3286', 'Server': 'nginx', 'Content-Type': 'text/html; charset=UTF-8', 'Last-Modified': 'Mon, 21 Feb 2022 05:00:05 GMT', 'ETag': 'W/\"62131c55-1fce\"', 'Expires': 'Mon, 21 Feb 2022 05:06:51 GMT', 'Cache-Control': 'max-age=300', 'Content-Encoding': 'gzip', 'Via': '1.1 varnish, 1.1 varnish', 'Accept-Ranges': 'bytes', 'Date': 'Mon, 21 Feb 2022 20:14:14 GMT', 'Age': '81', 'X-Served-By': 'cache-dfw18652-DFW, cache-iad-kiad7000053-IAD', 'X-Cache': 'HIT, HIT', 'X-Cache-Hits': '1, 1', 'X-Timer': 'S1645474454.420067,VS0,VE1', 'Vary': 'Accept-Encoding'}\n"
     ]
    }
   ],
   "source": [
    "print(x.headers)"
   ]
  },
  {
   "cell_type": "code",
   "execution_count": 19,
   "metadata": {},
   "outputs": [
    {
     "name": "stdout",
     "output_type": "stream",
     "text": [
      "https://httpbin.org/get?page=2&count=25\n"
     ]
    }
   ],
   "source": [
    "payload = {'page': 2, 'count': 25}\n",
    "s= requests.get('https://httpbin.org/get',params = payload)\n",
    "print(s.url)"
   ]
  },
  {
   "cell_type": "code",
   "execution_count": 26,
   "metadata": {},
   "outputs": [
    {
     "name": "stdout",
     "output_type": "stream",
     "text": [
      "{'password': 'abedkf', 'username': 'Armin'}\n"
     ]
    }
   ],
   "source": [
    "t_payload = {'username': 'Armin', 'password': 'abedkf' }\n",
    "t= requests.post('https://httpbin.org/post',data = t_payload)\n",
    "t_dict = t.json()\n",
    "print(t_dict['form'])"
   ]
  },
  {
   "cell_type": "code",
   "execution_count": 29,
   "metadata": {},
   "outputs": [
    {
     "name": "stdout",
     "output_type": "stream",
     "text": [
      "\n"
     ]
    }
   ],
   "source": [
    "z=requests.get('https://httpbin.org/basic-auth/Armin/testing', auth=('Armin','testing'), timeout=3)\n",
    "print(z.text)"
   ]
  },
  {
   "cell_type": "code",
   "execution_count": 30,
   "metadata": {},
   "outputs": [
    {
     "name": "stdout",
     "output_type": "stream",
     "text": [
      "<Response [401]>\n"
     ]
    }
   ],
   "source": [
    "print(z)"
   ]
  },
  {
   "cell_type": "code",
   "execution_count": 29,
   "metadata": {},
   "outputs": [],
   "source": [
    "$RF4rf%TG5tg^YH6yh\n",
    "\n",
    "    "
   ]
  },
  {
   "cell_type": "code",
   "execution_count": 34,
   "metadata": {},
   "outputs": [],
   "source": [
    "import requests\n",
    "import json\n",
    "\n",
    "#determine latest xkcd\n",
    "latest_comic = 'https://xkcd.com/info.0.json'\n",
    "temp = requests.get(latest_comic)\n",
    "temp_data = temp.json()\n",
    "last_comic_number = int(temp_data['num'])\n",
    "\n",
    "#iterate over comics\n",
    "for x in range(405, last_comic_number + 1):\n",
    "    website = 'https://xkcd.com/' + str(x) + '/info.0.json'\n",
    "    response = requests.get(website)\n",
    "\n",
    "    data = response.json()\n",
    "    \n",
    "\"\"\"Cleans up special characters in image title and saves image as that name\"\"\"    \n",
    "\n",
    "    alphanumeric = \"\"\n",
    "    for character in data['safe_title']:\n",
    "        if character.isalnum():\n",
    "            alphanumeric += character\n",
    "    \n",
    "    \n",
    "    filename = 'images/' + str(x) + '_' + alphanumeric +'.png'\n",
    "    r = requests.get(data['img'])\n",
    "\n",
    "    with open(filename, 'wb')as f:\n",
    "        f.write(r.content) \n",
    "        \n",
    "\"\"\"Writes image hover(alt) text to a file with numbering of comic.\"\"\"        \n",
    "        \n",
    "    hover_text = data['alt']\n",
    "    number = data['num']\n",
    "\n",
    "    with open(\"images/alt-text.txt\", 'a')as f:\n",
    "        f.write(str(number) + ': ' + hover_text + \"\\n\")\n",
    "        f.write(\"\\n\")"
   ]
  },
  {
   "cell_type": "code",
   "execution_count": 5,
   "metadata": {},
   "outputs": [],
   "source": [
    "import requests\n",
    "import json\n",
    "\n",
    "#determine latest xkcd\n",
    "latest_comic = 'https://xkcd.com/info.0.json'\n",
    "temp = requests.get(latest_comic)\n",
    "temp_data = temp.json()\n",
    "last_comic_number = int(temp_data['num'])\n",
    "\n",
    "#iterate over comics\n",
    "for x in range(400, 410):\n",
    "    website = 'https://xkcd.com/' + str(x) + '/info.0.json'\n",
    "    response = requests.get(website)\n",
    "    if response.status_code == requests.codes.ok:  #checks to see if a valid site\n",
    "\n",
    "        data = response.json()\n",
    "        \n",
    "        #gets rid of special characters title name to prevent save errors\n",
    "        alphanumeric = \"\"\n",
    "        for character in data['safe_title']:\n",
    "            if character.isalnum():\n",
    "                alphanumeric += character\n",
    "        \n",
    "        #saves file\n",
    "        filename = 'images/' + str(x) + '_' + alphanumeric +'.png'\n",
    "        r = requests.get(data['img'])\n",
    "\n",
    "        with open(filename, 'wb')as f:\n",
    "            f.write(r.content) \n",
    "     \n",
    "        #writes alt text to text file, with line numbered by comic\n",
    "        hover_text = data['alt']\n",
    "        number = data['num']\n",
    "\n",
    "        with open(\"images/alt-text.txt\", 'a')as f:\n",
    "            f.write(str(number) + ': ' + hover_text + \"\\n\")\n",
    "            f.write(\"\\n\")"
   ]
  },
  {
   "cell_type": "code",
   "execution_count": null,
   "metadata": {},
   "outputs": [],
   "source": []
  }
 ],
 "metadata": {
  "kernelspec": {
   "display_name": "Python 3",
   "language": "python",
   "name": "python3"
  },
  "language_info": {
   "codemirror_mode": {
    "name": "ipython",
    "version": 3
   },
   "file_extension": ".py",
   "mimetype": "text/x-python",
   "name": "python",
   "nbconvert_exporter": "python",
   "pygments_lexer": "ipython3",
   "version": "3.8.5"
  }
 },
 "nbformat": 4,
 "nbformat_minor": 4
}
